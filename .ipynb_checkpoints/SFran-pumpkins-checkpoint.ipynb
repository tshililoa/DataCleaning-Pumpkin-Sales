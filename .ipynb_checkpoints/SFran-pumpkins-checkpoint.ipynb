{
 "cells": [
  {
   "cell_type": "markdown",
   "id": "3a62c41d",
   "metadata": {},
   "source": [
    "# Data Cleaning Studio\n",
    "\n",
    "You are part of a team working for an agricultural nonprofit based in California. Your nonprofit focuses on helping farmers in the state grow profitable crops in environmentally-friendly ways in an effort to reduce the impact of climate change on the state and provide enough food for the state's 39.5 million residents. With Halloween on the horizon, you and your team are looking to analyze past pumpkin crops to try and answer several questions:\n",
    "1. Are pumpkins sold at terminal markets in California (San Francisco and Los Angeles) grown in California?\n",
    "1. Is the harvest season for pumpkins grown in California consistent year-to-year?\n",
    "1. Are pumpkin farmers growing specific varieties of pumpkins for specific reasons?\n",
    "\n",
    "The answers to these questions will help your nonprofit decide if they should promote specific varieties or growing practices to the farmers they serve in time for seeds to be planted next year. Your team has already performed some exploratory analysis on the San Francisco terminal market report of pumpkin sales from 9/2016-9/2017. Now it is time to clean the data!\n",
    "\n",
    "Before diving in to cleaning the data, here is a quick guide to the different columns in the USDA report and what they mean:\n",
    "- Commodity Name: This CSV structure is used for lots of USDA reports. In this case, the commodity is pumpkins\n",
    "- City Name: City where the pumpkin was sold. The city is a terminal market location within the United States.\n",
    "- Type: This refers to the type of farming used in growing the pumpkins\n",
    "- Package: The way the pumpkins were packed for sale\n",
    "- Variety: Specific type of pumpkin, i.e. pie pumpkin or a Howden pumpkin\n",
    "- Sub Variety: Addition classifications about the pumpkins, i.e. is it a flat pumpkin?\n",
    "- Grade: In the US, usually only canned pumpkin is graded\n",
    "- Date: Date of sale (rounded up to the nearest Saturday)\n",
    "- Low Price: This price is in reference to sale price\n",
    "- High Price: This price is in reference to sale price\n",
    "- Mostly Low: This column is not measured for pumpkins\n",
    "- Mostly High: This column is not measured for pumpkins\n",
    "- Origin: Which state the pumpkins were grown in\n",
    "- Origin District: Additional information about pumpkins' origin location\n",
    "- Item Size: Abbreviations denoting size, i.e. jbo = jumbo, lrg = large\n",
    "- Color: Color of pumpkins\n",
    "- Environment: Additional information about pumpkins' growing environment\n",
    "- Unit of Sale: The unit the customer bought at market, i.e. if they bought pumpkins by the pound, the data should say \"PER LB\" or  if they bought pumpkins by the bin, it would say \"PER BIN\"\n",
    "- Quality: Additional notes about pumpkin quality as necessary\n",
    "- Condition: Additional notes about pumpkin condition as necessary\n",
    "- Appearance: Additional notes about pumpkin appearance as necessary\n",
    "- Storage: Additional notes about pumpkin storage as necessary\n",
    "- Crop: Additional notes about pumpkin crop as necessary\n",
    "- Repack: Whether the pumpkin has been repackaged before sale\n",
    "- Trans Mode: Mode of transportation used to get pumpkins to terminal market"
   ]
  },
  {
   "cell_type": "code",
   "execution_count": 53,
   "id": "f15f403d",
   "metadata": {},
   "outputs": [],
   "source": [
    "import pandas as pd\n",
    "import matplotlib \n",
    "import matplotlib.pyplot as plt\n",
    "import seaborn as sns\n",
    "import numpy as np\n",
    "\n",
    "data = pd.read_csv(\"san-fransisco_9-24-2016_9-30-2017.csv\")"
   ]
  },
  {
   "cell_type": "code",
   "execution_count": 107,
   "id": "c57d63be",
   "metadata": {},
   "outputs": [
    {
     "data": {
      "text/html": [
       "<div>\n",
       "<style scoped>\n",
       "    .dataframe tbody tr th:only-of-type {\n",
       "        vertical-align: middle;\n",
       "    }\n",
       "\n",
       "    .dataframe tbody tr th {\n",
       "        vertical-align: top;\n",
       "    }\n",
       "\n",
       "    .dataframe thead th {\n",
       "        text-align: right;\n",
       "    }\n",
       "</style>\n",
       "<table border=\"1\" class=\"dataframe\">\n",
       "  <thead>\n",
       "    <tr style=\"text-align: right;\">\n",
       "      <th></th>\n",
       "      <th>Commodity Name</th>\n",
       "      <th>City Name</th>\n",
       "      <th>Type</th>\n",
       "      <th>Package</th>\n",
       "      <th>Variety</th>\n",
       "      <th>Sub Variety</th>\n",
       "      <th>Grade</th>\n",
       "      <th>Date</th>\n",
       "      <th>Low Price</th>\n",
       "      <th>High Price</th>\n",
       "      <th>...</th>\n",
       "      <th>Color</th>\n",
       "      <th>Environment</th>\n",
       "      <th>Unit of Sale</th>\n",
       "      <th>Quality</th>\n",
       "      <th>Condition</th>\n",
       "      <th>Appearance</th>\n",
       "      <th>Storage</th>\n",
       "      <th>Crop</th>\n",
       "      <th>Repack</th>\n",
       "      <th>Trans Mode</th>\n",
       "    </tr>\n",
       "  </thead>\n",
       "  <tbody>\n",
       "    <tr>\n",
       "      <th>0</th>\n",
       "      <td>PUMPKINS</td>\n",
       "      <td>SAN FRANCISCO</td>\n",
       "      <td>NaN</td>\n",
       "      <td>24 inch bins</td>\n",
       "      <td>HOWDEN TYPE</td>\n",
       "      <td>NaN</td>\n",
       "      <td>NaN</td>\n",
       "      <td>09/24/2016</td>\n",
       "      <td>155.0</td>\n",
       "      <td>155.0</td>\n",
       "      <td>...</td>\n",
       "      <td>NaN</td>\n",
       "      <td>NaN</td>\n",
       "      <td>NaN</td>\n",
       "      <td>NaN</td>\n",
       "      <td>NaN</td>\n",
       "      <td>NaN</td>\n",
       "      <td>NaN</td>\n",
       "      <td>NaN</td>\n",
       "      <td>N</td>\n",
       "      <td>NaN</td>\n",
       "    </tr>\n",
       "    <tr>\n",
       "      <th>1</th>\n",
       "      <td>PUMPKINS</td>\n",
       "      <td>SAN FRANCISCO</td>\n",
       "      <td>NaN</td>\n",
       "      <td>24 inch bins</td>\n",
       "      <td>HOWDEN TYPE</td>\n",
       "      <td>NaN</td>\n",
       "      <td>NaN</td>\n",
       "      <td>10/01/2016</td>\n",
       "      <td>155.0</td>\n",
       "      <td>155.0</td>\n",
       "      <td>...</td>\n",
       "      <td>NaN</td>\n",
       "      <td>NaN</td>\n",
       "      <td>NaN</td>\n",
       "      <td>NaN</td>\n",
       "      <td>NaN</td>\n",
       "      <td>NaN</td>\n",
       "      <td>NaN</td>\n",
       "      <td>NaN</td>\n",
       "      <td>N</td>\n",
       "      <td>NaN</td>\n",
       "    </tr>\n",
       "    <tr>\n",
       "      <th>2</th>\n",
       "      <td>PUMPKINS</td>\n",
       "      <td>SAN FRANCISCO</td>\n",
       "      <td>NaN</td>\n",
       "      <td>24 inch bins</td>\n",
       "      <td>HOWDEN TYPE</td>\n",
       "      <td>NaN</td>\n",
       "      <td>NaN</td>\n",
       "      <td>10/01/2016</td>\n",
       "      <td>155.0</td>\n",
       "      <td>155.0</td>\n",
       "      <td>...</td>\n",
       "      <td>NaN</td>\n",
       "      <td>NaN</td>\n",
       "      <td>NaN</td>\n",
       "      <td>NaN</td>\n",
       "      <td>NaN</td>\n",
       "      <td>NaN</td>\n",
       "      <td>NaN</td>\n",
       "      <td>NaN</td>\n",
       "      <td>N</td>\n",
       "      <td>NaN</td>\n",
       "    </tr>\n",
       "    <tr>\n",
       "      <th>3</th>\n",
       "      <td>PUMPKINS</td>\n",
       "      <td>SAN FRANCISCO</td>\n",
       "      <td>NaN</td>\n",
       "      <td>24 inch bins</td>\n",
       "      <td>HOWDEN TYPE</td>\n",
       "      <td>NaN</td>\n",
       "      <td>NaN</td>\n",
       "      <td>10/01/2016</td>\n",
       "      <td>135.0</td>\n",
       "      <td>135.0</td>\n",
       "      <td>...</td>\n",
       "      <td>NaN</td>\n",
       "      <td>NaN</td>\n",
       "      <td>NaN</td>\n",
       "      <td>NaN</td>\n",
       "      <td>NaN</td>\n",
       "      <td>NaN</td>\n",
       "      <td>NaN</td>\n",
       "      <td>NaN</td>\n",
       "      <td>N</td>\n",
       "      <td>NaN</td>\n",
       "    </tr>\n",
       "    <tr>\n",
       "      <th>4</th>\n",
       "      <td>PUMPKINS</td>\n",
       "      <td>SAN FRANCISCO</td>\n",
       "      <td>NaN</td>\n",
       "      <td>24 inch bins</td>\n",
       "      <td>HOWDEN TYPE</td>\n",
       "      <td>NaN</td>\n",
       "      <td>NaN</td>\n",
       "      <td>10/08/2016</td>\n",
       "      <td>135.0</td>\n",
       "      <td>150.0</td>\n",
       "      <td>...</td>\n",
       "      <td>NaN</td>\n",
       "      <td>NaN</td>\n",
       "      <td>NaN</td>\n",
       "      <td>NaN</td>\n",
       "      <td>NaN</td>\n",
       "      <td>NaN</td>\n",
       "      <td>NaN</td>\n",
       "      <td>NaN</td>\n",
       "      <td>N</td>\n",
       "      <td>NaN</td>\n",
       "    </tr>\n",
       "  </tbody>\n",
       "</table>\n",
       "<p>5 rows × 25 columns</p>\n",
       "</div>"
      ],
      "text/plain": [
       "  Commodity Name      City Name Type       Package      Variety Sub Variety  \\\n",
       "0       PUMPKINS  SAN FRANCISCO  NaN  24 inch bins  HOWDEN TYPE         NaN   \n",
       "1       PUMPKINS  SAN FRANCISCO  NaN  24 inch bins  HOWDEN TYPE         NaN   \n",
       "2       PUMPKINS  SAN FRANCISCO  NaN  24 inch bins  HOWDEN TYPE         NaN   \n",
       "3       PUMPKINS  SAN FRANCISCO  NaN  24 inch bins  HOWDEN TYPE         NaN   \n",
       "4       PUMPKINS  SAN FRANCISCO  NaN  24 inch bins  HOWDEN TYPE         NaN   \n",
       "\n",
       "   Grade        Date  Low Price  High Price  ...  Color  Environment  \\\n",
       "0    NaN  09/24/2016      155.0       155.0  ...    NaN          NaN   \n",
       "1    NaN  10/01/2016      155.0       155.0  ...    NaN          NaN   \n",
       "2    NaN  10/01/2016      155.0       155.0  ...    NaN          NaN   \n",
       "3    NaN  10/01/2016      135.0       135.0  ...    NaN          NaN   \n",
       "4    NaN  10/08/2016      135.0       150.0  ...    NaN          NaN   \n",
       "\n",
       "  Unit of Sale  Quality Condition Appearance  Storage  Crop  Repack  \\\n",
       "0          NaN      NaN       NaN        NaN      NaN   NaN       N   \n",
       "1          NaN      NaN       NaN        NaN      NaN   NaN       N   \n",
       "2          NaN      NaN       NaN        NaN      NaN   NaN       N   \n",
       "3          NaN      NaN       NaN        NaN      NaN   NaN       N   \n",
       "4          NaN      NaN       NaN        NaN      NaN   NaN       N   \n",
       "\n",
       "   Trans Mode  \n",
       "0         NaN  \n",
       "1         NaN  \n",
       "2         NaN  \n",
       "3         NaN  \n",
       "4         NaN  \n",
       "\n",
       "[5 rows x 25 columns]"
      ]
     },
     "execution_count": 107,
     "metadata": {},
     "output_type": "execute_result"
    }
   ],
   "source": [
    "data.head()"
   ]
  },
  {
   "cell_type": "code",
   "execution_count": 54,
   "id": "224ac9e3",
   "metadata": {
    "scrolled": true
   },
   "outputs": [
    {
     "name": "stdout",
     "output_type": "stream",
     "text": [
      "Commodity Name - 0%\n",
      "City Name - 0%\n",
      "Type - 78%\n",
      "Package - 0%\n",
      "Variety - 0%\n",
      "Sub Variety - 61%\n",
      "Grade - 100%\n",
      "Date - 0%\n",
      "Low Price - 0%\n",
      "High Price - 0%\n",
      "Mostly Low - 0%\n",
      "Mostly High - 0%\n",
      "Origin - 0%\n",
      "Origin District - 100%\n",
      "Item Size - 75%\n",
      "Color - 72%\n",
      "Environment - 100%\n",
      "Unit of Sale - 100%\n",
      "Quality - 100%\n",
      "Condition - 100%\n",
      "Appearance - 100%\n",
      "Storage - 100%\n",
      "Crop - 100%\n",
      "Repack - 0%\n",
      "Trans Mode - 100%\n"
     ]
    }
   ],
   "source": [
    "for col in data.columns:\n",
    "    pct_missing = np.mean(data[col].isnull())\n",
    "    print('{} - {}%'.format(col, round(pct_missing*100)))"
   ]
  },
  {
   "cell_type": "code",
   "execution_count": 55,
   "id": "bbc182d9",
   "metadata": {},
   "outputs": [
    {
     "name": "stdout",
     "output_type": "stream",
     "text": [
      "51.0 % Missing cells from the data\n"
     ]
    }
   ],
   "source": [
    "# Checking the overall percentage of missing data from the data set\n",
    "\n",
    "total_cells = np.product(data.shape)\n",
    "\n",
    "missing_cells = pd.isnull(data).sum()\n",
    "\n",
    "total_missing = missing_cells.sum()\n",
    "\n",
    "percentage_missing = round((total_missing/total_cells), 2) *100\n",
    "\n",
    "print(percentage_missing, \"% Missing cells from the data\")    "
   ]
  },
  {
   "cell_type": "markdown",
   "id": "e900b3e3",
   "metadata": {},
   "source": [
    "### Question 1: \n",
    "\n",
    "Look at the percentages of missing data per coluum.  There are quite a few columns with less than 100% of the data.  What do you want to do with each column?   Consider the following options for each and write down your thoughts in a box below this one.\n",
    "1. Drop the Observation\n",
    "1. Drop the Feature\n",
    "1. Impute the Missing Values\n",
    "1. Replace the Missing Values"
   ]
  },
  {
   "cell_type": "code",
   "execution_count": 110,
   "id": "9c80fb27",
   "metadata": {},
   "outputs": [],
   "source": [
    "# Answer Question 1 here:\n",
    ".Commodity Name: \n",
    ".City Name: \n",
    ".Type: replace missing values\n",
    ".Package: \n",
    ".Variety: \n",
    ".Sub Variety: replace missing values\n",
    ".Grade:impute missing values\n",
    ".Date: \n",
    ".Low Price: \n",
    ".High Price: \n",
    ".Mostly Low: \n",
    ".Mostly High: \n",
    ".Origin:\n",
    ".Origin District: Drop the Feature\n",
    ".Item Size:Impute the missing values\n",
    ".Color: Replace missing values\n",
    ".Environment: Replace the missing values\n",
    ".Unit of Sale:Drop the Feature\n",
    ".Quality: Drop the Feature\n",
    ".Condition:Drop the Feature\n",
    ".Appearance: \n",
    ".Storage: Drop the Feature\n",
    ".Crop: Drop the Feature\n",
    ".Repack: \n",
    ".Trans Mode:  Drop the Feature\n"
   ]
  },
  {
   "cell_type": "code",
   "execution_count": 57,
   "id": "c2965056",
   "metadata": {},
   "outputs": [
    {
     "data": {
      "text/html": [
       "<div>\n",
       "<style scoped>\n",
       "    .dataframe tbody tr th:only-of-type {\n",
       "        vertical-align: middle;\n",
       "    }\n",
       "\n",
       "    .dataframe tbody tr th {\n",
       "        vertical-align: top;\n",
       "    }\n",
       "\n",
       "    .dataframe thead th {\n",
       "        text-align: right;\n",
       "    }\n",
       "</style>\n",
       "<table border=\"1\" class=\"dataframe\">\n",
       "  <thead>\n",
       "    <tr style=\"text-align: right;\">\n",
       "      <th></th>\n",
       "      <th>Commodity Name</th>\n",
       "      <th>City Name</th>\n",
       "      <th>Type</th>\n",
       "      <th>Package</th>\n",
       "      <th>Variety</th>\n",
       "      <th>Sub Variety</th>\n",
       "      <th>Grade</th>\n",
       "      <th>Date</th>\n",
       "      <th>Low Price</th>\n",
       "      <th>High Price</th>\n",
       "      <th>...</th>\n",
       "      <th>Color</th>\n",
       "      <th>Environment</th>\n",
       "      <th>Unit of Sale</th>\n",
       "      <th>Quality</th>\n",
       "      <th>Condition</th>\n",
       "      <th>Appearance</th>\n",
       "      <th>Storage</th>\n",
       "      <th>Crop</th>\n",
       "      <th>Repack</th>\n",
       "      <th>Trans Mode</th>\n",
       "    </tr>\n",
       "  </thead>\n",
       "  <tbody>\n",
       "    <tr>\n",
       "      <th>0</th>\n",
       "      <td>PUMPKINS</td>\n",
       "      <td>SAN FRANCISCO</td>\n",
       "      <td>NaN</td>\n",
       "      <td>24 inch bins</td>\n",
       "      <td>HOWDEN TYPE</td>\n",
       "      <td>NaN</td>\n",
       "      <td>NaN</td>\n",
       "      <td>09/24/2016</td>\n",
       "      <td>155.0</td>\n",
       "      <td>155.0</td>\n",
       "      <td>...</td>\n",
       "      <td>NaN</td>\n",
       "      <td>NaN</td>\n",
       "      <td>NaN</td>\n",
       "      <td>NaN</td>\n",
       "      <td>NaN</td>\n",
       "      <td>NaN</td>\n",
       "      <td>NaN</td>\n",
       "      <td>NaN</td>\n",
       "      <td>False</td>\n",
       "      <td>NaN</td>\n",
       "    </tr>\n",
       "    <tr>\n",
       "      <th>1</th>\n",
       "      <td>PUMPKINS</td>\n",
       "      <td>SAN FRANCISCO</td>\n",
       "      <td>NaN</td>\n",
       "      <td>24 inch bins</td>\n",
       "      <td>HOWDEN TYPE</td>\n",
       "      <td>NaN</td>\n",
       "      <td>NaN</td>\n",
       "      <td>10/01/2016</td>\n",
       "      <td>155.0</td>\n",
       "      <td>155.0</td>\n",
       "      <td>...</td>\n",
       "      <td>NaN</td>\n",
       "      <td>NaN</td>\n",
       "      <td>NaN</td>\n",
       "      <td>NaN</td>\n",
       "      <td>NaN</td>\n",
       "      <td>NaN</td>\n",
       "      <td>NaN</td>\n",
       "      <td>NaN</td>\n",
       "      <td>False</td>\n",
       "      <td>NaN</td>\n",
       "    </tr>\n",
       "    <tr>\n",
       "      <th>2</th>\n",
       "      <td>PUMPKINS</td>\n",
       "      <td>SAN FRANCISCO</td>\n",
       "      <td>NaN</td>\n",
       "      <td>24 inch bins</td>\n",
       "      <td>HOWDEN TYPE</td>\n",
       "      <td>NaN</td>\n",
       "      <td>NaN</td>\n",
       "      <td>10/01/2016</td>\n",
       "      <td>155.0</td>\n",
       "      <td>155.0</td>\n",
       "      <td>...</td>\n",
       "      <td>NaN</td>\n",
       "      <td>NaN</td>\n",
       "      <td>NaN</td>\n",
       "      <td>NaN</td>\n",
       "      <td>NaN</td>\n",
       "      <td>NaN</td>\n",
       "      <td>NaN</td>\n",
       "      <td>NaN</td>\n",
       "      <td>False</td>\n",
       "      <td>NaN</td>\n",
       "    </tr>\n",
       "    <tr>\n",
       "      <th>3</th>\n",
       "      <td>PUMPKINS</td>\n",
       "      <td>SAN FRANCISCO</td>\n",
       "      <td>NaN</td>\n",
       "      <td>24 inch bins</td>\n",
       "      <td>HOWDEN TYPE</td>\n",
       "      <td>NaN</td>\n",
       "      <td>NaN</td>\n",
       "      <td>10/01/2016</td>\n",
       "      <td>135.0</td>\n",
       "      <td>135.0</td>\n",
       "      <td>...</td>\n",
       "      <td>NaN</td>\n",
       "      <td>NaN</td>\n",
       "      <td>NaN</td>\n",
       "      <td>NaN</td>\n",
       "      <td>NaN</td>\n",
       "      <td>NaN</td>\n",
       "      <td>NaN</td>\n",
       "      <td>NaN</td>\n",
       "      <td>False</td>\n",
       "      <td>NaN</td>\n",
       "    </tr>\n",
       "    <tr>\n",
       "      <th>4</th>\n",
       "      <td>PUMPKINS</td>\n",
       "      <td>SAN FRANCISCO</td>\n",
       "      <td>NaN</td>\n",
       "      <td>24 inch bins</td>\n",
       "      <td>HOWDEN TYPE</td>\n",
       "      <td>NaN</td>\n",
       "      <td>NaN</td>\n",
       "      <td>10/08/2016</td>\n",
       "      <td>135.0</td>\n",
       "      <td>150.0</td>\n",
       "      <td>...</td>\n",
       "      <td>NaN</td>\n",
       "      <td>NaN</td>\n",
       "      <td>NaN</td>\n",
       "      <td>NaN</td>\n",
       "      <td>NaN</td>\n",
       "      <td>NaN</td>\n",
       "      <td>NaN</td>\n",
       "      <td>NaN</td>\n",
       "      <td>False</td>\n",
       "      <td>NaN</td>\n",
       "    </tr>\n",
       "  </tbody>\n",
       "</table>\n",
       "<p>5 rows × 25 columns</p>\n",
       "</div>"
      ],
      "text/plain": [
       "  Commodity Name      City Name Type       Package      Variety Sub Variety  \\\n",
       "0       PUMPKINS  SAN FRANCISCO  NaN  24 inch bins  HOWDEN TYPE         NaN   \n",
       "1       PUMPKINS  SAN FRANCISCO  NaN  24 inch bins  HOWDEN TYPE         NaN   \n",
       "2       PUMPKINS  SAN FRANCISCO  NaN  24 inch bins  HOWDEN TYPE         NaN   \n",
       "3       PUMPKINS  SAN FRANCISCO  NaN  24 inch bins  HOWDEN TYPE         NaN   \n",
       "4       PUMPKINS  SAN FRANCISCO  NaN  24 inch bins  HOWDEN TYPE         NaN   \n",
       "\n",
       "   Grade        Date  Low Price  High Price  ...  Color  Environment  \\\n",
       "0    NaN  09/24/2016      155.0       155.0  ...    NaN          NaN   \n",
       "1    NaN  10/01/2016      155.0       155.0  ...    NaN          NaN   \n",
       "2    NaN  10/01/2016      155.0       155.0  ...    NaN          NaN   \n",
       "3    NaN  10/01/2016      135.0       135.0  ...    NaN          NaN   \n",
       "4    NaN  10/08/2016      135.0       150.0  ...    NaN          NaN   \n",
       "\n",
       "  Unit of Sale  Quality Condition Appearance  Storage  Crop  Repack  \\\n",
       "0          NaN      NaN       NaN        NaN      NaN   NaN   False   \n",
       "1          NaN      NaN       NaN        NaN      NaN   NaN   False   \n",
       "2          NaN      NaN       NaN        NaN      NaN   NaN   False   \n",
       "3          NaN      NaN       NaN        NaN      NaN   NaN   False   \n",
       "4          NaN      NaN       NaN        NaN      NaN   NaN   False   \n",
       "\n",
       "   Trans Mode  \n",
       "0         NaN  \n",
       "1         NaN  \n",
       "2         NaN  \n",
       "3         NaN  \n",
       "4         NaN  \n",
       "\n",
       "[5 rows x 25 columns]"
      ]
     },
     "execution_count": 57,
     "metadata": {},
     "output_type": "execute_result"
    }
   ],
   "source": [
    "# Repack Column\n",
    "data[\"Repack\"] = data[\"Repack\"].replace({\"N\":False})\n",
    "#Check status with a quick head check\n",
    "data.head()"
   ]
  },
  {
   "cell_type": "markdown",
   "id": "a8f08339",
   "metadata": {},
   "source": [
    "# Question 2:\n",
    "\n",
    "Look at the \"Type\" column.  This column contains two values, \"Organic\" and \"NaN\".  \n",
    "When it comes to food, food is either typically designated as \"Organic\" or \"Conventional\" based on farming practices.  \n",
    "\n",
    "Do you think we should update the \"NaN\" values to \"Conventional\"?  Why or Why not?"
   ]
  },
  {
   "cell_type": "code",
   "execution_count": 112,
   "id": "b5b7c63c",
   "metadata": {},
   "outputs": [],
   "source": [
    "# Answers Question 2:\n",
    "No because we do not know 100% whether the values missing are organic or conventional. \n"
   ]
  },
  {
   "cell_type": "code",
   "execution_count": 58,
   "id": "9479f294",
   "metadata": {},
   "outputs": [],
   "source": [
    "# Fill the Missing Values in the Type Column\n",
    "data[\"Type\"] = data[\"Type\"].fillna(\"Conventional\")"
   ]
  },
  {
   "cell_type": "markdown",
   "id": "94b4c7ce",
   "metadata": {},
   "source": [
    "# Question 3\n",
    "\n",
    "Based on the information provided by our team, \"Grade\" is only applied to canned pumpkin.  \n",
    "These were all uncanned, whole pumpkins.  This column is irrelevant to the dataset.\n",
    "\n",
    "We are going to drop the column.  Do you agree with this choice?  Why or why not?"
   ]
  },
  {
   "cell_type": "code",
   "execution_count": 114,
   "id": "1302d998",
   "metadata": {},
   "outputs": [],
   "source": [
    "# Answer Question 3 here:\n",
    "There are specific types of pumpkins that are grown for canning, so Grade  information can be  relevant."
   ]
  },
  {
   "cell_type": "code",
   "execution_count": 3,
   "id": "ddf0ab8f",
   "metadata": {
    "scrolled": true
   },
   "outputs": [],
   "source": [
    "# Grade Column \n",
    "data = data.drop([\"Grade\"], axis=1) "
   ]
  },
  {
   "cell_type": "code",
   "execution_count": 59,
   "id": "67e812d5",
   "metadata": {},
   "outputs": [
    {
     "data": {
      "text/plain": [
       "(166, 25)"
      ]
     },
     "execution_count": 59,
     "metadata": {},
     "output_type": "execute_result"
    }
   ],
   "source": [
    "#Check with shape\n",
    "data.shape"
   ]
  },
  {
   "cell_type": "markdown",
   "id": "711bedbe",
   "metadata": {},
   "source": [
    "# Question 4\n",
    "\n",
    "Decide which columns are relevant and irrelevant as a group.\n",
    "\n",
    "Do you think any of the columns empty for a reason?  What reason do you think? \n",
    "Is this intentional or unintentional?  \n",
    "What do you think?"
   ]
  },
  {
   "cell_type": "code",
   "execution_count": 117,
   "id": "3236839d",
   "metadata": {},
   "outputs": [],
   "source": [
    "# Explain your rationale breifly here: \n",
    "the columns with all missing data will be irrelevant since it cannot be used. some columns like Variety, Type, City Name etc, are relevant because they privides the data we need for the analysis"
   ]
  },
  {
   "cell_type": "code",
   "execution_count": 60,
   "id": "ea0df42f",
   "metadata": {},
   "outputs": [],
   "source": [
    "# Drop the ones you decide are irrelevant using the code we used to drop the \"Grade Column\"\n",
    "data = data.drop([\"Trans Mode\", \"Storage\", \"Mostly High\", \"Mostly Low\", \"Repack\"], axis=1) "
   ]
  },
  {
   "cell_type": "markdown",
   "id": "66ac7337",
   "metadata": {},
   "source": [
    "# Question 5:\n",
    "\n",
    "Plot the outliers for them.\n",
    "histogram of date vs. sales\n",
    "\n",
    "\n",
    "What do you think about the dates?  "
   ]
  },
  {
   "cell_type": "code",
   "execution_count": 67,
   "id": "04a97f78",
   "metadata": {},
   "outputs": [
    {
     "data": {
      "text/plain": [
       "<AxesSubplot:>"
      ]
     },
     "execution_count": 67,
     "metadata": {},
     "output_type": "execute_result"
    },
    {
     "data": {
      "image/png": "[encoded data removed]",
      "text/plain": [
       "<Figure size 640x480 with 1 Axes>"
      ]
     },
     "metadata": {},
     "output_type": "display_data"
    }
   ],
   "source": [
    "# Answer 5 here:\n",
    "\n",
    "data['Date'].hist(bins=100)\n",
    "# earlier dates have more pumpkin sales."
   ]
  },
  {
   "cell_type": "code",
   "execution_count": 64,
   "id": "9aad4ee9",
   "metadata": {},
   "outputs": [
    {
     "data": {
      "text/plain": [
       "<AxesSubplot:>"
      ]
     },
     "execution_count": 64,
     "metadata": {},
     "output_type": "execute_result"
    },
    {
     "data": {
      "image/png": "[encoded data removed]",
      "text/plain": [
       "<Figure size 640x480 with 1 Axes>"
      ]
     },
     "metadata": {},
     "output_type": "display_data"
    }
   ],
   "source": [
    "data['Unit of Sale'].hist(bins=100)\n",
    "# Nothing in the graph because there are no data available for 'Unit of Sale'"
   ]
  },
  {
   "cell_type": "code",
   "execution_count": 49,
   "id": "11aa94a9",
   "metadata": {},
   "outputs": [
    {
     "data": {
      "text/plain": [
       "<AxesSubplot:>"
      ]
     },
     "execution_count": 49,
     "metadata": {},
     "output_type": "execute_result"
    },
    {
     "data": {
      "image/png": "[encoded data removed]",
      "text/plain": [
       "<Figure size 640x480 with 1 Axes>"
      ]
     },
     "metadata": {},
     "output_type": "display_data"
    }
   ],
   "source": [
    "# # bar chart -  distribution of a categorical variable\n",
    "data['Date'].value_counts().plot.bar()"
   ]
  },
  {
   "cell_type": "code",
   "execution_count": 121,
   "id": "77d6e9a9",
   "metadata": {},
   "outputs": [
    {
     "data": {
      "text/plain": [
       "([0, 1, 2, 3, 4, 5, 6, 7, 8, 9, 10, 11, 12, 13, 14, 15, 16, 17, 18],\n",
       " [Text(0, 0, ''),\n",
       "  Text(0, 0, ''),\n",
       "  Text(0, 0, ''),\n",
       "  Text(0, 0, ''),\n",
       "  Text(0, 0, ''),\n",
       "  Text(0, 0, ''),\n",
       "  Text(0, 0, ''),\n",
       "  Text(0, 0, ''),\n",
       "  Text(0, 0, ''),\n",
       "  Text(0, 0, ''),\n",
       "  Text(0, 0, ''),\n",
       "  Text(0, 0, ''),\n",
       "  Text(0, 0, ''),\n",
       "  Text(0, 0, ''),\n",
       "  Text(0, 0, ''),\n",
       "  Text(0, 0, ''),\n",
       "  Text(0, 0, ''),\n",
       "  Text(0, 0, ''),\n",
       "  Text(0, 0, '')])"
      ]
     },
     "execution_count": 121,
     "metadata": {},
     "output_type": "execute_result"
    },
    {
     "data": {
      "image/png": "[encoded data removed]",
      "text/plain": [
       "<Figure size 432x288 with 1 Axes>"
      ]
     },
     "metadata": {
      "needs_background": "light"
     },
     "output_type": "display_data"
    }
   ],
   "source": [
    "# # histogram of dates.\n",
    "data['Date'].hist(bins=100)\n",
    "plt.xticks(rotation=90)\n",
    "\n",
    "#ignore the lists above the histogram for right now.  Examine the histogram."
   ]
  },
  {
   "cell_type": "markdown",
   "id": "dde3d3bf",
   "metadata": {},
   "source": [
    "# Question 6:\n",
    "\n",
    "Are there any points in this data set that you worry about inconsistencies? \n",
    "Where?  What would you want to check?  Why?"
   ]
  },
  {
   "cell_type": "code",
   "execution_count": 122,
   "id": "e76d67dd",
   "metadata": {},
   "outputs": [],
   "source": [
    "# Answer Question 6 here: \n",
    "\n",
    "there was abig drop in 09/09/2017 and a big increase in 09/30/2017.  Would like to check the circumstances of the big changes. Was the big changes due to an even or lack thereof."
   ]
  },
  {
   "cell_type": "markdown",
   "id": "91b4f663",
   "metadata": {},
   "source": [
    "# Bonus Mission\n",
    "\n",
    "Fix the LA page at this link: [A Year of Pumpkin Prices](https://www.kaggle.com/usda/a-year-of-pumpkin-prices)"
   ]
  },
  {
   "cell_type": "code",
   "execution_count": null,
   "id": "40f72977",
   "metadata": {},
   "outputs": [],
   "source": []
  }
 ],
 "metadata": {
  "kernelspec": {
   "display_name": "Python 3 (ipykernel)",
   "language": "python",
   "name": "python3"
  },
  "language_info": {
   "codemirror_mode": {
    "name": "ipython",
    "version": 3
   },
   "file_extension": ".py",
   "mimetype": "text/x-python",
   "name": "python",
   "nbconvert_exporter": "python",
   "pygments_lexer": "ipython3",
   "version": "3.9.13"
  }
 },
 "nbformat": 4,
 "nbformat_minor": 5
}
